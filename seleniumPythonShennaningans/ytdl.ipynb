{
  "nbformat": 4,
  "nbformat_minor": 0,
  "metadata": {
    "colab": {
      "name": "ytdl.ipynb",
      "provenance": [],
      "authorship_tag": "ABX9TyP1koN5nuxLUz+d7g5/bRMj",
      "include_colab_link": true
    },
    "kernelspec": {
      "name": "python3",
      "display_name": "Python 3"
    }
  },
  "cells": [
    {
      "cell_type": "markdown",
      "metadata": {
        "id": "view-in-github",
        "colab_type": "text"
      },
      "source": [
        "<a href=\"https://colab.research.google.com/github/nigamelastic/seleniumPythonShennaningans/blob/master/ytdl.ipynb\" target=\"_parent\"><img src=\"https://colab.research.google.com/assets/colab-badge.svg\" alt=\"Open In Colab\"/></a>"
      ]
    },
    {
      "cell_type": "code",
      "metadata": {
        "id": "cOd_43ZjL4NZ",
        "colab_type": "code",
        "colab": {}
      },
      "source": [
        " !pip install youtube-dl\n",
        " "
      ],
      "execution_count": 0,
      "outputs": []
    },
    {
      "cell_type": "code",
      "metadata": {
        "id": "bfOO9rcqMEO9",
        "colab_type": "code",
        "colab": {}
      },
      "source": [
        "!youtube-dl -f 'bestvideo[ext=mp4]+bestaudio[ext=m4a]/bestvideo+bestaudio' --merge-output-format mp4 '<your url>'"
      ],
      "execution_count": 0,
      "outputs": []
    },
    {
      "cell_type": "code",
      "metadata": {
        "id": "45M56lI6MHVQ",
        "colab_type": "code",
        "colab": {}
      },
      "source": [
        "#check the downloaded file\n",
        "!ls"
      ],
      "execution_count": 0,
      "outputs": []
    },
    {
      "cell_type": "code",
      "metadata": {
        "id": "HUecJbYrMMSF",
        "colab_type": "code",
        "colab": {}
      },
      "source": [
        "from google.colab import files\n",
        "files.download(\"<name of the file with extension seen in the above step>\")"
      ],
      "execution_count": 0,
      "outputs": []
    }
  ]
}